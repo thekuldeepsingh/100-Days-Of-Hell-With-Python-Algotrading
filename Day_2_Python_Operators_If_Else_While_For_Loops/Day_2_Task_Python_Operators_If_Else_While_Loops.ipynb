{
 "cells": [
  {
   "cell_type": "markdown",
   "metadata": {},
   "source": [
    "1. **Operators and Logical Expressions**  \n",
    "   - **Question**: You have a list of stock prices over 30 days. Write a logical expression that will identify consecutive price drops over three days or more. For instance, `[120, 118, 115, 110]` would qualify, but `[120, 118, 120, 110]` would not."
   ]
  },
  {
   "cell_type": "code",
   "execution_count": null,
   "metadata": {},
   "outputs": [],
   "source": [
    "def has_consecutive_price_drop(prices):\n",
    "    count =0\n",
    "     \n",
    "    for i in range(1,len(prices)):\n",
    "        if prices[i]<prices[i-1]:\n",
    "            count+=1\n",
    "            if count>=2:\n",
    "                return True\n",
    "        else:\n",
    "            count=0\n",
    "\n",
    "       \n",
    "    return False\n",
    "\n",
    "\n",
    "\n",
    "\n",
    "price5=[12,13,14,15,16,17]\n",
    "price2=[13,121,120,150]\n",
    "price3=[1,2,3,4,5,66,65,61,50]\n",
    "\n",
    "print(has_consecutive_price_drop(price5))\n",
    "print(has_consecutive_price_drop(price2))\n",
    "print(has_consecutive_price_drop(price3))"
   ]
  },
  {
   "cell_type": "markdown",
   "metadata": {},
   "source": [
    "2. **If-Else Statements**  \n",
    "   - **Question**: You are designing an algorithm to trade stocks. If the current price of a stock is above the 30-day moving average, print `\"Buy Signal\"`; otherwise, print `\"Sell Signal\"`. Assume you have a list of daily prices and that the moving average can be calculated."
   ]
  },
  {
   "cell_type": "code",
   "execution_count": null,
   "metadata": {},
   "outputs": [],
   "source": [
    "#Write your code here"
   ]
  },
  {
   "cell_type": "markdown",
   "metadata": {},
   "source": [
    "3. **Modules (pandas)**  \n",
    "   - **Question**: Use the `pandas` library to load a CSV file containing historical trading data and calculate the daily percentage change of closing prices over a period of time."
   ]
  },
  {
   "cell_type": "code",
   "execution_count": null,
   "metadata": {},
   "outputs": [],
   "source": [
    "#Write your code here"
   ]
  },
  {
   "cell_type": "markdown",
   "metadata": {},
   "source": [
    "4. **While Loop**  \n",
    "   - **Question**: Create a loop that repeatedly checks a stock price from a real-time source every 10 seconds until the stock falls below a threshold value. In this scenario, print `\"Threshold Exceeded\"` when the threshold is crossed."
   ]
  },
  {
   "cell_type": "code",
   "execution_count": null,
   "metadata": {},
   "outputs": [],
   "source": [
    "#Write your code here"
   ]
  },
  {
   "cell_type": "markdown",
   "metadata": {},
   "source": [
    "\n",
    "5. **For Loop**  \n",
    "   - **Question**: You have data on the opening and closing prices of multiple stocks in a portfolio. Using a for loop, calculate and print the total daily gain or loss for each stock in the portfolio."
   ]
  },
  {
   "cell_type": "code",
   "execution_count": null,
   "metadata": {},
   "outputs": [],
   "source": [
    "#Write your code here"
   ]
  },
  {
   "cell_type": "markdown",
   "metadata": {},
   "source": [
    "6. **Nested Loops**  \n",
    "   - **Question**: Create a nested loop that simulates a simple market-making strategy by placing buy and sell orders over a range of prices and volumes. Assume bid prices range from 90 to 100 and ask prices range from 101 to 110."
   ]
  },
  {
   "cell_type": "code",
   "execution_count": null,
   "metadata": {},
   "outputs": [],
   "source": [
    "#Write your code here"
   ]
  },
  {
   "cell_type": "markdown",
   "metadata": {},
   "source": [
    "7. **Complex If-Else Logic**  \n",
    "   - **Question**: You have a complex trading rule where a `\"Strong Buy\"` signal is given if the stock price is above both the 30-day and 50-day moving averages, a `\"Buy\"` signal is given if only above the 30-day, a `\"Hold\"` signal if above the 50-day, and a `\"Sell\"` signal otherwise. Calculate the signals assuming you have daily prices for at least 50 days."
   ]
  },
  {
   "cell_type": "code",
   "execution_count": null,
   "metadata": {},
   "outputs": [],
   "source": [
    "#Write your code here"
   ]
  },
  {
   "cell_type": "markdown",
   "metadata": {},
   "source": [
    "8. **Modules (numpy)**  \n",
    "   - **Question**: Use the `numpy` module to calculate the rolling average for a window of 5 days over a numpy array containing 20 stock prices."
   ]
  },
  {
   "cell_type": "code",
   "execution_count": null,
   "metadata": {},
   "outputs": [],
   "source": [
    "#Write your code here"
   ]
  },
  {
   "cell_type": "markdown",
   "metadata": {},
   "source": [
    "9. **Optimization with Loops**  \n",
    "   - **Question**: Calculate the best day to buy and the best day to sell to maximize profit within a list of daily prices using a single pass of nested loops."
   ]
  },
  {
   "cell_type": "code",
   "execution_count": null,
   "metadata": {},
   "outputs": [],
   "source": [
    "#Write your code here"
   ]
  },
  {
   "cell_type": "markdown",
   "metadata": {},
   "source": [
    "10. **Scenario Analysis**  \n",
    "   - **Question**: Given that a certain algorithm follows a strategy where every time a stock gains 5% in value from the last recorded price, the program places a sell order. Track the hypothetical prices over 15 days and identify when sell orders should be triggered."
   ]
  },
  {
   "cell_type": "markdown",
   "metadata": {},
   "source": [
    "### Python Mini Project 2 :\n",
    "\n",
    "Scenario: Simulated Stock Trading Bot\n",
    "\n",
    "**Objective:**\n",
    "Create a Python script that simulates trading over a dataset containing historical stock prices. The bot will decide whether to buy, hold, or sell based on the momentum calculated as the difference between the current price and the average price of the last few days.\n",
    "\n",
    "\n",
    "### Project Components:\n",
    "\n",
    "1. **Data Structure**:\n",
    "   - Use a list of tuples or dictionaries to simulate historical stock data with each element containing information about the stock price on a particular day.\n",
    "\n",
    "2. **Momentum Calculation**:\n",
    "   - Calculate the average price of the last N days and compare it with the current day's price to determine the momentum.\n",
    "\n",
    "3. **Trading Decisions**:\n",
    "   - Use if-else statements to make trading decisions based on the calculated momentum.\n",
    "\n",
    "4. **Trading Simulation**:\n",
    "   - Loop through the dataset and simulate trading decisions, updating the portfolio accordingly.\n",
    "\n",
    "5. **Performance Evaluation**:\n",
    "   - At the end of the simulation, calculate and print the final portfolio value and compare it with the initial value to gauge performance.\n",
    "\n",
    "### Skills and Python Features Used:\n",
    "- **Python Operators**: Use arithmetic operators to calculate averages, gains, and losses.\n",
    "- **Python if-else**: Make conditional decisions based on momentum and other trading indicators.\n",
    "- **Python Modules**: Use the `datetime` module for handling dates, `matplotlib` for plotting stock prices and portfolio value over time.\n",
    "- **Python While Loop**: Could be used to allow the simulation to run until a certain condition is met, like a stop-loss limit.\n",
    "- **Python for loop**: Iterate over each day in the stock dataset to simulate trading.\n",
    "\n",
    "\n"
   ]
  },
  {
   "cell_type": "code",
   "execution_count": null,
   "metadata": {},
   "outputs": [],
   "source": [
    "#Write your code here"
   ]
  }
 ],
 "metadata": {
  "kernelspec": {
   "display_name": "base",
   "language": "python",
   "name": "python3"
  },
  "language_info": {
   "name": "python",
   "version": "3.11.8"
  }
 },
 "nbformat": 4,
 "nbformat_minor": 2
}
